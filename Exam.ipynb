{
 "cells": [
  {
   "cell_type": "markdown",
   "id": "e63c2b2f-532d-472b-9305-349efdab1bbb",
   "metadata": {},
   "source": [
    "### Here are some test questions for simple linear regression, multiple linear regression, decision trees, and random forests:"
   ]
  },
  {
   "attachments": {},
   "cell_type": "markdown",
   "id": "1cb2ef45-1db2-4254-83ae-a8b96adafc45",
   "metadata": {},
   "source": [
    " # Simple linear regression"
   ]
  },
  {
   "attachments": {},
   "cell_type": "markdown",
   "id": "347c152e-0384-43b2-80ad-32547f6a583d",
   "metadata": {},
   "source": [
    "Q1: What is the mathematical formula for a simple linear regression model?\n",
    "\n",
    "A1 : Y = a0 + a X"
   ]
  },
  {
   "attachments": {},
   "cell_type": "markdown",
   "id": "3bc92ea5-17f6-4c26-bdc2-faea1f063462",
   "metadata": {},
   "source": [
    "\n",
    "Q2: How do you measure the fit of a simple linear regression model?\n",
    "\n",
    "A2: from the amount of the trained and test data assigned in the train_test_split method"
   ]
  },
  {
   "attachments": {},
   "cell_type": "markdown",
   "id": "249b9b86",
   "metadata": {},
   "source": [
    "Q3: How do you determine the most appropriate model for a simple linear regression problem?\n",
    "\n",
    "A3:to determine the best model to predict a high accurate data, I have to try different model which I see it will be suitable for the case,\n",
    "after that I will calculate the accuracy of each algorith and model to predict.\n",
    "\n",
    "and also if possible I will plot the prediction Vs. the test dat to see the fitting status.\n",
    "it should be fit the test data accurately but not reach the oerfitting case."
   ]
  },
  {
   "attachments": {},
   "cell_type": "markdown",
   "id": "c793d401-d2f2-4bb3-91c5-5eba16604a1f",
   "metadata": {},
   "source": [
    "# Multiple linear regression"
   ]
  },
  {
   "attachments": {},
   "cell_type": "markdown",
   "id": "b9ae6b6e-d411-444f-9bf2-f8cb6d4c97c5",
   "metadata": {},
   "source": [
    "Q4: How does multiple linear regression differ from simple linear regression?\n",
    "\n",
    "A4: Simple linear used to predict the outcome depending on a single feature\n",
    "while the multiple linear regression is used to predict the outcome from many features.\n",
    "\n",
    "\n",
    "\n",
    "Q5: How do you identify which variables are significant in a multiple linear regression model?\n",
    "\n",
    "A5: From printing the head of the dataset and the info as well, I counld find there are some columns have the most features required to predict the outcome.\n",
    "and I might see other features have object or more null values which will could affect the data.\n",
    "in this case I should decide to label or fill the null data according the case.\n",
    "\n",
    "\n",
    "\n",
    "Q6: How do you deal with multicollinearity in a multiple linear regression model?\n",
    "\n",
    "A6: I do print the correlation between all features and the outcome.\n",
    "from the correlation nalysis, I should ignore the data which having the highest correlation with other and select the most significan ones."
   ]
  },
  {
   "attachments": {},
   "cell_type": "markdown",
   "id": "1c75a255-4625-43bf-9397-7ea76bebc777",
   "metadata": {},
   "source": [
    "# Decision trees"
   ]
  },
  {
   "attachments": {},
   "cell_type": "markdown",
   "id": "1a7f6541-b1cf-464f-8c16-7253f736b2aa",
   "metadata": {},
   "source": [
    "Q7: What is the process for creating a decision tree?\n",
    "\n",
    "A7:\n",
    "1 - we do the expolatory Data Analysis EDA.\n",
    "2 - Clean the data \n",
    "3 - Assign the features and the outcome\n",
    "4 - Select the algorithm\n",
    "5 - Create the model\n",
    "6 - Fit the model to the data\n",
    "7 - Predict the outcome\n",
    "8 - Print the Text to see the predict\n",
    "9 - Visualize the result\n",
    "10- Calculate the accuracy\n",
    "\n",
    "\n",
    "Q8 : How do you decide which features to include in a decision tree?\n",
    "\n",
    "A8 : I select the most significat feature and which don't have a high correlation with other features.\n",
    "\n",
    "\n",
    "Q9 : How do you determine the optimal depth of a decision tree?\n",
    "\n",
    "A9 : From the feature numbers and it should be suitable for the data volume."
   ]
  },
  {
   "attachments": {},
   "cell_type": "markdown",
   "id": "e0a771a7-7388-47fe-b75f-43b719698aea",
   "metadata": {},
   "source": [
    "# Random forests"
   ]
  },
  {
   "attachments": {},
   "cell_type": "markdown",
   "id": "612c02ae-b582-43e5-9bbf-db6409c590d5",
   "metadata": {},
   "source": [
    "Q10 : What is the difference between a decision tree and a random forest?\n",
    "\n",
    "Q10 : \n",
    "Decision Tree : is an alghorithm which predict the outcome by creating and viualing a one tree including all features and some comparators Vs, features value\n",
    "Random Forest : is using the same technique but the main difference that it uses to creat a selected number of trees randomly from the dataset and do some comparator on each tree and visualize a final tree for the prediction state.\n",
    "\n",
    "\n",
    "Q11 : How do you decide the number of trees to include in a random forest?\n",
    "\n",
    "A11 : Depending on the number of the features and the data in the dataset.\n",
    "\n",
    "\n",
    "Q12 : How do you measure the importance of different features in a random forest?\n",
    "\n",
    "A12 : "
   ]
  },
  {
   "cell_type": "code",
   "execution_count": null,
   "id": "c683f3c3-42ea-4586-b59b-d78e7beb7139",
   "metadata": {},
   "outputs": [],
   "source": []
  }
 ],
 "metadata": {
  "kernelspec": {
   "display_name": "Python 3",
   "language": "python",
   "name": "python3"
  },
  "language_info": {
   "codemirror_mode": {
    "name": "ipython",
    "version": 3
   },
   "file_extension": ".py",
   "mimetype": "text/x-python",
   "name": "python",
   "nbconvert_exporter": "python",
   "pygments_lexer": "ipython3",
   "version": "3.10.1"
  },
  "vscode": {
   "interpreter": {
    "hash": "cfb290067cd8c0e27243bb25ad9b037fd47bb62353ba87cfd026ce4b9af78aab"
   }
  }
 },
 "nbformat": 4,
 "nbformat_minor": 5
}
